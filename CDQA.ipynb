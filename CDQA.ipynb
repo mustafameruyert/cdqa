{
 "cells": [
  {
   "cell_type": "code",
   "execution_count": 2,
   "metadata": {},
   "outputs": [
    {
     "name": "stderr",
     "output_type": "stream",
     "text": [
      "C:\\Users\\Алматы\\AppData\\Roaming\\Python\\Python37\\site-packages\\tqdm\\autonotebook\\__init__.py:18: TqdmExperimentalWarning: Using `tqdm.autonotebook.tqdm` in notebook mode. Use `tqdm.tqdm` instead to force console mode (e.g. in jupyter console)\n",
      "  \" (e.g. in jupyter console)\", TqdmExperimentalWarning)\n"
     ]
    }
   ],
   "source": [
    "import pandas as pd\n",
    "from ast import literal_eval\n",
    "\n",
    "from cdqa.utils.filters import filter_paragraphs\n",
    "from cdqa.utils.download import download_model, download_bnpp_data\n",
    "from cdqa.pipeline.cdqa_sklearn import QAPipeline"
   ]
  },
  {
   "cell_type": "code",
   "execution_count": 2,
   "metadata": {},
   "outputs": [
    {
     "name": "stdout",
     "output_type": "stream",
     "text": [
      "\n",
      "Downloading BNP data...\n",
      "bnpp_newsroom-v1.1.csv already downloaded\n",
      "\n",
      "Downloading trained model...\n",
      "bert_qa.joblib already downloaded\n"
     ]
    }
   ],
   "source": [
    "download_bnpp_data(dir='./data/bnpp_newsroom_v1.1/')\n",
    "download_model(model='bert-squad_1.1', dir='./models')"
   ]
  },
  {
   "cell_type": "code",
   "execution_count": 5,
   "metadata": {},
   "outputs": [],
   "source": [
    "df = pd.read_csv('data/bnpp_newsroom_v1.1/bnpp_newsroom-v1.1.csv', converters={'paragraphs': literal_eval})\n",
    "#df = filter_paragraphs(df)"
   ]
  },
  {
   "cell_type": "code",
   "execution_count": 6,
   "metadata": {},
   "outputs": [
    {
     "data": {
      "text/html": [
       "<div>\n",
       "<style scoped>\n",
       "    .dataframe tbody tr th:only-of-type {\n",
       "        vertical-align: middle;\n",
       "    }\n",
       "\n",
       "    .dataframe tbody tr th {\n",
       "        vertical-align: top;\n",
       "    }\n",
       "\n",
       "    .dataframe thead th {\n",
       "        text-align: right;\n",
       "    }\n",
       "</style>\n",
       "<table border=\"1\" class=\"dataframe\">\n",
       "  <thead>\n",
       "    <tr style=\"text-align: right;\">\n",
       "      <th></th>\n",
       "      <th>date</th>\n",
       "      <th>title</th>\n",
       "      <th>category</th>\n",
       "      <th>link</th>\n",
       "      <th>abstract</th>\n",
       "      <th>paragraphs</th>\n",
       "    </tr>\n",
       "  </thead>\n",
       "  <tbody>\n",
       "    <tr>\n",
       "      <th>0</th>\n",
       "      <td>14.05.2019</td>\n",
       "      <td>BNP Paribas at #VivaTech : discover the progra...</td>\n",
       "      <td>Innovation</td>\n",
       "      <td>https://group.bnpparibas/en/news/bnp-paribas-v...</td>\n",
       "      <td>From Thursday 16 to Saturday 18 May 2019, join...</td>\n",
       "      <td>[From may 16, 2019 to may 18, 2019, VivaTechno...</td>\n",
       "    </tr>\n",
       "    <tr>\n",
       "      <th>1</th>\n",
       "      <td>13.05.2019</td>\n",
       "      <td>The banking jobs : Assistant Vice President – ...</td>\n",
       "      <td>Careers</td>\n",
       "      <td>https://group.bnpparibas/en/news/banking-jobs-...</td>\n",
       "      <td>Within the Group’s Corporate and Institutional...</td>\n",
       "      <td>[When Artificial Intelligence participates in ...</td>\n",
       "    </tr>\n",
       "    <tr>\n",
       "      <th>2</th>\n",
       "      <td>13.05.2019</td>\n",
       "      <td>BNP Paribas at #VivaTech : discover the progra...</td>\n",
       "      <td>Innovation</td>\n",
       "      <td>https://group.bnpparibas/en/news/bnp-paribas-v...</td>\n",
       "      <td>From Thursday 16 to Saturday 18 May 2019, join...</td>\n",
       "      <td>[From may 16, 2019 to may 18, 2019, VivaTechno...</td>\n",
       "    </tr>\n",
       "    <tr>\n",
       "      <th>3</th>\n",
       "      <td>13.05.2019</td>\n",
       "      <td>\"The bank with an IT budget of more than EUR6 ...</td>\n",
       "      <td>Group</td>\n",
       "      <td>https://group.bnpparibas/en/news/the-bank-budg...</td>\n",
       "      <td>Interview with Jean-Laurent Bonnafé, Director ...</td>\n",
       "      <td>[Nordic region: an opportunity for Europe?, In...</td>\n",
       "    </tr>\n",
       "    <tr>\n",
       "      <th>4</th>\n",
       "      <td>10.05.2019</td>\n",
       "      <td>BNP Paribas at #VivaTech : discover the progra...</td>\n",
       "      <td>Innovation</td>\n",
       "      <td>https://group.bnpparibas/en/news/bnp-paribas-v...</td>\n",
       "      <td>From Thursday 16 to Saturday 18 May 2019, join...</td>\n",
       "      <td>[From may 16, 2019 to may 18, 2019, VivaTechno...</td>\n",
       "    </tr>\n",
       "  </tbody>\n",
       "</table>\n",
       "</div>"
      ],
      "text/plain": [
       "         date                                              title    category  \\\n",
       "0  14.05.2019  BNP Paribas at #VivaTech : discover the progra...  Innovation   \n",
       "1  13.05.2019  The banking jobs : Assistant Vice President – ...     Careers   \n",
       "2  13.05.2019  BNP Paribas at #VivaTech : discover the progra...  Innovation   \n",
       "3  13.05.2019  \"The bank with an IT budget of more than EUR6 ...       Group   \n",
       "4  10.05.2019  BNP Paribas at #VivaTech : discover the progra...  Innovation   \n",
       "\n",
       "                                                link  \\\n",
       "0  https://group.bnpparibas/en/news/bnp-paribas-v...   \n",
       "1  https://group.bnpparibas/en/news/banking-jobs-...   \n",
       "2  https://group.bnpparibas/en/news/bnp-paribas-v...   \n",
       "3  https://group.bnpparibas/en/news/the-bank-budg...   \n",
       "4  https://group.bnpparibas/en/news/bnp-paribas-v...   \n",
       "\n",
       "                                            abstract  \\\n",
       "0  From Thursday 16 to Saturday 18 May 2019, join...   \n",
       "1  Within the Group’s Corporate and Institutional...   \n",
       "2  From Thursday 16 to Saturday 18 May 2019, join...   \n",
       "3  Interview with Jean-Laurent Bonnafé, Director ...   \n",
       "4  From Thursday 16 to Saturday 18 May 2019, join...   \n",
       "\n",
       "                                          paragraphs  \n",
       "0  [From may 16, 2019 to may 18, 2019, VivaTechno...  \n",
       "1  [When Artificial Intelligence participates in ...  \n",
       "2  [From may 16, 2019 to may 18, 2019, VivaTechno...  \n",
       "3  [Nordic region: an opportunity for Europe?, In...  \n",
       "4  [From may 16, 2019 to may 18, 2019, VivaTechno...  "
      ]
     },
     "execution_count": 6,
     "metadata": {},
     "output_type": "execute_result"
    }
   ],
   "source": [
    "df.head()"
   ]
  },
  {
   "cell_type": "code",
   "execution_count": 5,
   "metadata": {},
   "outputs": [
    {
     "data": {
      "text/plain": [
       "['I manage a team in charge of designing and implementing the Enterprise Data Management Framework, which is a set of procedures governing data management. To carry out our mission, we analyze the pertinence of the data in our possession—whether they are financial, transactional, referential, etc.—starting from their origination and capture in our systems until the moment they are consumed for internal and regulatory reports. Our goal is to understand and document the processes that mitigate data risks along its journey, identify potential flaws, to ultimately provide assurance over the data at critical points. It’s a specialization that has grown significantly since the 2008 financial crisis.',\n",
       " 'With the frameworks that have been and are being implemented, our ability to act on data-related issues is challenged by the sheer volume of data, metadata (i.e. data on data), dashboards and other data visualization tools. It can be difficult to not get overwhelmed when trouble shooting an issue, keeping a clear head, and being able to act rapidly. ‘’Data fatigue’’ is now being used to describe this across various industries and roles.',\n",
       " 'I got it almost by accident when I applied for another position within the bank! Back in Montreal, my hometown, after a career with an audit firm, I wanted to work in a global institution to satisfy my craving for new challenges and put my analytical skills to use. I applied for a position in finance production support, but the recruiter I was working with scheduled the interview for this role in Enterprise Data Management. The first 10 minutes of the discussion with my current manager were quite confusing, but since my background seemed to correspond to the job description, we had a great conversation. I wasn’t very familiar with financial institutions or data management, but coming out of the interview I knew this would be an interesting field. My manager also mentioned if I joined, I could participate in a BNPP sponsored tennis tournament, which was the last nudge I needed to sign on!',\n",
       " 'The people. Hands down, the team I work with every day, as well as all the other people I’m in touch with regularly, whether in the United States or in Paris. The department is somewhat new, and I’m grateful for the way we cheer each other on through the growing pains.',\n",
       " 'Every year, in connection with the We Are Tennis Cup organized by the bank, I take part in the regional tournament held in Canada. It’s an exciting event as the regional winners get to participate in the global tournament, but it’s above all a chance to share a fun moment between employees—on the court instead of in the office.',\n",
       " 'I would compare it to the telephone game, where one person whispers information into the next person’s ear—usually with some information lost along the way! My role is to ensure the integrity and quality of this information, which in my world, passes through many different hands and travels through several countries.']"
      ]
     },
     "execution_count": 5,
     "metadata": {},
     "output_type": "execute_result"
    }
   ],
   "source": [
    "df['paragraphs'][0]"
   ]
  },
  {
   "cell_type": "code",
   "execution_count": 6,
   "metadata": {},
   "outputs": [],
   "source": [
    "cdqa_pipeline = QAPipeline(reader='C:\\\\Users\\\\Алматы\\\\cdQA\\\\cdqa\\\\reader\\\\bert_qa_vCPU-sklearn.joblib')"
   ]
  },
  {
   "cell_type": "code",
   "execution_count": 7,
   "metadata": {},
   "outputs": [
    {
     "data": {
      "text/plain": [
       "QAPipeline(reader=BertQA(adam_epsilon=None, bert_model='bert-base-uncased',\n",
       "                         do_lower_case=True, fp16=False,\n",
       "                         gradient_accumulation_steps=1, learning_rate=3e-05,\n",
       "                         local_rank=-1, loss_scale=0, max_answer_length=30,\n",
       "                         n_best_size=20, no_cuda=False,\n",
       "                         null_score_diff_threshold=0.0, num_train_epochs=2,\n",
       "                         output_dir=None, predict_batch_size=8, seed=42,\n",
       "                         server_ip='', server_port=...e=8,\n",
       "                         verbose_logging=False, version_2_with_negative=False,\n",
       "                         warmup_proportion=0.1, warmup_steps=None),\n",
       "           retrieve_by_doc=False,\n",
       "           retriever=BM25Retriever(b=0.75, floor=None, k1=2.0, lowercase=True,\n",
       "                                   max_df=0.85, min_df=2, ngram_range=(1, 2),\n",
       "                                   preprocessor=None, stop_words='english',\n",
       "                                   token_pattern='(?u)\\\\b\\\\w\\\\w+\\\\b',\n",
       "                                   tokenizer=None, top_n=20, verbose=False,\n",
       "                                   vocabulary=None))"
      ]
     },
     "execution_count": 7,
     "metadata": {},
     "output_type": "execute_result"
    }
   ],
   "source": [
    "cdqa_pipeline.fit_retriever(df=df)"
   ]
  },
  {
   "cell_type": "code",
   "execution_count": 11,
   "metadata": {},
   "outputs": [],
   "source": [
    "query = 'When was the financial crisis?'\n",
    "prediction = cdqa_pipeline.predict(query)"
   ]
  },
  {
   "cell_type": "code",
   "execution_count": 12,
   "metadata": {},
   "outputs": [
    {
     "data": {
      "text/plain": [
       "('2007-2011',\n",
       " 'MiFID 2: promoting trust-based relationships with investment clients',\n",
       " 'Since the 2007-2011 financial crisis, investors have faced tremendous uncertainty combined with low performance, higher volatility and a general lack of confidence. With MiFID 2, the European regulator aims to restore this confidence by increasing transparency, control and responsibility when investing. The directive follows MiFID 1 (2007), which ended the monopoly of market companies and allowed competition in stock markets, where orders are executed.',\n",
       " 14.622398282227774)"
      ]
     },
     "execution_count": 12,
     "metadata": {},
     "output_type": "execute_result"
    }
   ],
   "source": [
    "prediction"
   ]
  },
  {
   "cell_type": "code",
   "execution_count": 10,
   "metadata": {},
   "outputs": [
    {
     "name": "stdout",
     "output_type": "stream",
     "text": [
      "query: Since when does the Excellence Program of BNP Paribas exist?\n",
      "\n",
      "answer: January 2016\n",
      "\n",
      "title: BNP Paribas’ commitment to universities and schools\n",
      "\n",
      "paragraph: Since January 2016, BNP Paribas has offered an Excellence Program targeting new Master’s level graduates (BAC+5) who show high potential. The aid program lasts 18 months and comprises three assignments of six months each. It serves as a strong career accelerator that enables participants to access high-level management positions at a faster rate. The program allows participants to discover the BNP Paribas Group and its various entities in France and abroad, build an internal and external network by working on different assignments and receive personalized assistance from a mentor and coaching firm at every step along the way.\n",
      "\n"
     ]
    }
   ],
   "source": [
    "print('query: {}\\n'.format(query))\n",
    "print('answer: {}\\n'.format(prediction[0]))\n",
    "print('title: {}\\n'.format(prediction[1]))\n",
    "print('paragraph: {}\\n'.format(prediction[2]))"
   ]
  },
  {
   "cell_type": "code",
   "execution_count": null,
   "metadata": {},
   "outputs": [],
   "source": []
  }
 ],
 "metadata": {
  "kernelspec": {
   "display_name": "Python 3",
   "language": "python",
   "name": "python3"
  },
  "language_info": {
   "codemirror_mode": {
    "name": "ipython",
    "version": 3
   },
   "file_extension": ".py",
   "mimetype": "text/x-python",
   "name": "python",
   "nbconvert_exporter": "python",
   "pygments_lexer": "ipython3",
   "version": "3.7.3"
  }
 },
 "nbformat": 4,
 "nbformat_minor": 2
}
