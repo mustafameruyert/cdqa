{
 "cells": [
  {
   "cell_type": "code",
   "execution_count": 1,
   "metadata": {
    "scrolled": true
   },
   "outputs": [
    {
     "name": "stderr",
     "output_type": "stream",
     "text": [
      "C:\\Users\\Алматы\\AppData\\Roaming\\Python\\Python37\\site-packages\\tqdm\\autonotebook\\__init__.py:18: TqdmExperimentalWarning: Using `tqdm.autonotebook.tqdm` in notebook mode. Use `tqdm.tqdm` instead to force console mode (e.g. in jupyter console)\n",
      "  \" (e.g. in jupyter console)\", TqdmExperimentalWarning)\n"
     ]
    }
   ],
   "source": [
    "import pandas as pd\n",
    "from ast import literal_eval\n",
    "\n",
    "from cdqa.utils.filters import filter_paragraphs\n",
    "from cdqa.utils.download import download_model, download_bnpp_data\n",
    "from cdqa.pipeline.cdqa_sklearn import QAPipeline"
   ]
  },
  {
   "cell_type": "code",
   "execution_count": 2,
   "metadata": {},
   "outputs": [],
   "source": [
    "from nltk import sent_tokenize, word_tokenize"
   ]
  },
  {
   "cell_type": "code",
   "execution_count": 3,
   "metadata": {},
   "outputs": [],
   "source": [
    "basedir = 'C:\\\\Users\\\\Алматы\\\\Desktop\\\\AA'"
   ]
  },
  {
   "cell_type": "code",
   "execution_count": 4,
   "metadata": {},
   "outputs": [],
   "source": [
    "import os"
   ]
  },
  {
   "cell_type": "code",
   "execution_count": 6,
   "metadata": {},
   "outputs": [],
   "source": [
    "files=pd.DataFrame()\n",
    "files['title'] = os.listdir(basedir)\n",
    "files['paths']=' '\n",
    "files['paths'] = [os.path.join(basedir, name) for name in files['title']]\n",
    "files['paragraphs']=' '\n",
    "files['paragraphs']=[open((i), 'r', encoding=\"utf8\", errors='ignore').read().strip() for i in files['paths'] ]"
   ]
  },
  {
   "cell_type": "code",
   "execution_count": 7,
   "metadata": {},
   "outputs": [
    {
     "data": {
      "text/html": [
       "<div>\n",
       "<style scoped>\n",
       "    .dataframe tbody tr th:only-of-type {\n",
       "        vertical-align: middle;\n",
       "    }\n",
       "\n",
       "    .dataframe tbody tr th {\n",
       "        vertical-align: top;\n",
       "    }\n",
       "\n",
       "    .dataframe thead th {\n",
       "        text-align: right;\n",
       "    }\n",
       "</style>\n",
       "<table border=\"1\" class=\"dataframe\">\n",
       "  <thead>\n",
       "    <tr style=\"text-align: right;\">\n",
       "      <th></th>\n",
       "      <th>title</th>\n",
       "      <th>paths</th>\n",
       "      <th>paragraphs</th>\n",
       "    </tr>\n",
       "  </thead>\n",
       "  <tbody>\n",
       "    <tr>\n",
       "      <th>0</th>\n",
       "      <td>wiki_00.txt</td>\n",
       "      <td>C:\\Users\\Алматы\\Desktop\\AA\\wiki_00.txt</td>\n",
       "      <td>Литва\\nЛитва́ (), официальное название — Лито́...</td>\n",
       "    </tr>\n",
       "    <tr>\n",
       "      <th>1</th>\n",
       "      <td>wiki_01.txt</td>\n",
       "      <td>C:\\Users\\Алматы\\Desktop\\AA\\wiki_01.txt</td>\n",
       "      <td>Новая экономическая политика\\nНовая экономичес...</td>\n",
       "    </tr>\n",
       "    <tr>\n",
       "      <th>2</th>\n",
       "      <td>wiki_02.txt</td>\n",
       "      <td>C:\\Users\\Алматы\\Desktop\\AA\\wiki_02.txt</td>\n",
       "      <td>Великая Отечественная война\\nВели́кая Оте́чест...</td>\n",
       "    </tr>\n",
       "    <tr>\n",
       "      <th>3</th>\n",
       "      <td>wiki_03.txt</td>\n",
       "      <td>C:\\Users\\Алматы\\Desktop\\AA\\wiki_03.txt</td>\n",
       "      <td>Варшава\\nВарша́ва (, ) — столица и крупнейший ...</td>\n",
       "    </tr>\n",
       "    <tr>\n",
       "      <th>4</th>\n",
       "      <td>wiki_04.txt</td>\n",
       "      <td>C:\\Users\\Алматы\\Desktop\\AA\\wiki_04.txt</td>\n",
       "      <td>История Германии\\nИстория Германии (), насчиты...</td>\n",
       "    </tr>\n",
       "  </tbody>\n",
       "</table>\n",
       "</div>"
      ],
      "text/plain": [
       "         title                                   paths  \\\n",
       "0  wiki_00.txt  C:\\Users\\Алматы\\Desktop\\AA\\wiki_00.txt   \n",
       "1  wiki_01.txt  C:\\Users\\Алматы\\Desktop\\AA\\wiki_01.txt   \n",
       "2  wiki_02.txt  C:\\Users\\Алматы\\Desktop\\AA\\wiki_02.txt   \n",
       "3  wiki_03.txt  C:\\Users\\Алматы\\Desktop\\AA\\wiki_03.txt   \n",
       "4  wiki_04.txt  C:\\Users\\Алматы\\Desktop\\AA\\wiki_04.txt   \n",
       "\n",
       "                                          paragraphs  \n",
       "0  Литва\\nЛитва́ (), официальное название — Лито́...  \n",
       "1  Новая экономическая политика\\nНовая экономичес...  \n",
       "2  Великая Отечественная война\\nВели́кая Оте́чест...  \n",
       "3  Варшава\\nВарша́ва (, ) — столица и крупнейший ...  \n",
       "4  История Германии\\nИстория Германии (), насчиты...  "
      ]
     },
     "execution_count": 7,
     "metadata": {},
     "output_type": "execute_result"
    }
   ],
   "source": [
    "files.head()"
   ]
  },
  {
   "cell_type": "code",
   "execution_count": 7,
   "metadata": {},
   "outputs": [],
   "source": [
    "files['paragraphs']=files['paragraphs'].apply(lambda x:sent_tokenize(x) )"
   ]
  },
  {
   "cell_type": "code",
   "execution_count": null,
   "metadata": {},
   "outputs": [],
   "source": [
    "files.to_csv('C:\\\\Users\\\\Алматы\\\\Desktop\\\\AA\\\\new_dataset.csv')"
   ]
  },
  {
   "cell_type": "code",
   "execution_count": 9,
   "metadata": {},
   "outputs": [],
   "source": [
    "df=pd.read_csv('C:\\\\Users\\\\Алматы\\\\Desktop\\\\AA\\\\dataset.csv',converters={'paragraphs': literal_eval})"
   ]
  },
  {
   "cell_type": "code",
   "execution_count": 10,
   "metadata": {},
   "outputs": [],
   "source": [
    "new_df=df.head(n=3)"
   ]
  },
  {
   "cell_type": "code",
   "execution_count": 36,
   "metadata": {},
   "outputs": [],
   "source": [
    "#cdqa_pipeline = QAPipeline(reader='C:\\\\Users\\\\Алматы\\\\cdQA\\\\cdqa\\\\reader\\\\bert_qa_vCPU-sklearn.joblib')"
   ]
  },
  {
   "cell_type": "code",
   "execution_count": 36,
   "metadata": {},
   "outputs": [
    {
     "data": {
      "text/plain": [
       "QAPipeline(reader=BertQA(adam_epsilon=1e-08, bert_model='bert-base-uncased',\n",
       "                         do_lower_case=True, fp16=False,\n",
       "                         gradient_accumulation_steps=1, learning_rate=5e-05,\n",
       "                         local_rank=-1, loss_scale=0, max_answer_length=30,\n",
       "                         n_best_size=20, no_cuda=False,\n",
       "                         null_score_diff_threshold=0.0, num_train_epochs=3.0,\n",
       "                         output_dir=None, predict_batch_size=8, seed=42,\n",
       "                         server_ip='', server_po...size=8,\n",
       "                         verbose_logging=False, version_2_with_negative=False,\n",
       "                         warmup_proportion=0.1, warmup_steps=0),\n",
       "           retrieve_by_doc=False,\n",
       "           retriever=BM25Retriever(b=0.75, floor=None, k1=2.0, lowercase=True,\n",
       "                                   max_df=0.85, min_df=2, ngram_range=(1, 2),\n",
       "                                   preprocessor=None, stop_words='english',\n",
       "                                   token_pattern='(?u)\\\\b\\\\w\\\\w+\\\\b',\n",
       "                                   tokenizer=None, top_n=20, verbose=False,\n",
       "                                   vocabulary=None))"
      ]
     },
     "execution_count": 36,
     "metadata": {},
     "output_type": "execute_result"
    }
   ],
   "source": [
    "cdqa_pipeline = QAPipeline(reader='C:\\\\Users\\\\Алматы\\\\cdQA\\\\cdqa\\\\reader\\\\bert_qa.joblib')\n",
    "cdqa_pipeline.fit_retriever(df=df)"
   ]
  },
  {
   "cell_type": "code",
   "execution_count": 41,
   "metadata": {},
   "outputs": [],
   "source": [
    "query = 'Когда начался дипломатический конфликт с Китаем?'\n",
    "prediction = cdqa_pipeline.predict(query)"
   ]
  },
  {
   "cell_type": "code",
   "execution_count": 42,
   "metadata": {},
   "outputs": [
    {
     "data": {
      "text/plain": [
       "('В 1960',\n",
       " 'wiki_01.txt',\n",
       " 'В 1960 году начался дипломатический конфликт с Китаем, расколовший мировое коммунистическое движение.',\n",
       " 7.3968583276555675)"
      ]
     },
     "execution_count": 42,
     "metadata": {},
     "output_type": "execute_result"
    }
   ],
   "source": [
    "prediction"
   ]
  },
  {
   "cell_type": "code",
   "execution_count": null,
   "metadata": {},
   "outputs": [],
   "source": [
    "print('query: {}\\n'.format(query))\n",
    "print('answer: {}\\n'.format(prediction[0]))\n",
    "print('title: {}\\n'.format(prediction[1]))\n",
    "print('paragraph: {}\\n'.format(prediction[2]))"
   ]
  }
 ],
 "metadata": {
  "kernelspec": {
   "display_name": "Python 3",
   "language": "python",
   "name": "python3"
  },
  "language_info": {
   "codemirror_mode": {
    "name": "ipython",
    "version": 3
   },
   "file_extension": ".py",
   "mimetype": "text/x-python",
   "name": "python",
   "nbconvert_exporter": "python",
   "pygments_lexer": "ipython3",
   "version": "3.7.3"
  }
 },
 "nbformat": 4,
 "nbformat_minor": 2
}
